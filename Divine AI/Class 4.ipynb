{
 "cells": [
  {
   "cell_type": "code",
   "execution_count": null,
   "id": "90bfbc58",
   "metadata": {},
   "outputs": [],
   "source": [
    "dic={1:55,2:45,6:99,\"3\":\"mno\",999:\"kk\"}\n",
    "print(dic)\n",
    "for i,j in dic.items():\n",
    "    print(i,\":\",j)\n"
   ]
  },
  {
   "cell_type": "code",
   "execution_count": null,
   "id": "a7755779",
   "metadata": {},
   "outputs": [],
   "source": [
    "ml=[1,2,3,4]\n",
    "yl=[4,3,2,1]\n",
    "hl=[1,2,3,4]\n",
    "xl={1,2,3,4}\n",
    "print(ml,\"==\",yl,\"->\",ml == yl)\n",
    "print(hl == ml)\n",
    "print(type(xl))\n",
    "print(type(ml))"
   ]
  },
  {
   "cell_type": "code",
   "execution_count": null,
   "id": "9e9cbdda",
   "metadata": {},
   "outputs": [],
   "source": [
    "for num in 'computer':\n",
    "    print(num)"
   ]
  },
  {
   "cell_type": "code",
   "execution_count": null,
   "id": "1844f58a",
   "metadata": {},
   "outputs": [],
   "source": [
    "import random \n",
    "r1=random.random()\n",
    "print (\"r1\",r1)\n",
    "r2=random.randint(1,10000)\n",
    "print(\"r2\",r2)\n",
    "r3=random.choice([1,2,3,\"99\"])\n",
    "print(\"r3\",r3)"
   ]
  },
  {
   "cell_type": "markdown",
   "id": "5b1d7f8c",
   "metadata": {},
   "source": [
    "<h1>Homework</h1>"
   ]
  },
  {
   "cell_type": "code",
   "execution_count": null,
   "id": "d7deabf0",
   "metadata": {
    "slideshow": {
     "slide_type": "-"
    }
   },
   "outputs": [],
   "source": [
    "n= int(input(\"Enter a num\"))\n",
    "for i in range(1,11):\n",
    "    print (n,\"x\",i,\"=\",n*i)\n"
   ]
  },
  {
   "cell_type": "code",
   "execution_count": null,
   "id": "cd67d758",
   "metadata": {},
   "outputs": [],
   "source": [
    "n=1\n",
    "num= int(input(\"Enter a num\"))\n",
    "while n < num:\n",
    "    n+=1\n",
    "    print(n)\n",
    "    n+=1"
   ]
  },
  {
   "cell_type": "code",
   "execution_count": 4,
   "id": "de7ece02",
   "metadata": {},
   "outputs": [
    {
     "name": "stdout",
     "output_type": "stream",
     "text": [
      "1\n",
      "2\n",
      "3\n",
      "4\n",
      "5\n",
      "6\n",
      "7\n",
      "8\n",
      "7\n"
     ]
    }
   ],
   "source": [
    "numbers =[1,2,3,4,5,6,7,8]\n",
    "for x in range(len(numbers)):\n",
    "    print(numbers[x])\n",
    "print(x)"
   ]
  },
  {
   "cell_type": "code",
   "execution_count": 7,
   "id": "ec949a95",
   "metadata": {},
   "outputs": [
    {
     "name": "stdout",
     "output_type": "stream",
     "text": [
      "Enter the num : 10\n",
      "sum of 10 natural number is = 55\n"
     ]
    }
   ],
   "source": [
    "n=int(input(\"Enter the num : \"))\n",
    "sum=0\n",
    "for i in range(n+1):\n",
    "   sum+=i\n",
    "print (\"sum of\",n,\"natural number is =\",sum)"
   ]
  },
  {
   "cell_type": "code",
   "execution_count": 9,
   "id": "52971d75",
   "metadata": {},
   "outputs": [
    {
     "name": "stdout",
     "output_type": "stream",
     "text": [
      "Enter the num : 5\n",
      "Factorial of 5 numbers is = 120\n"
     ]
    }
   ],
   "source": [
    "n=int(input(\"Enter the num : \"))\n",
    "fact=1\n",
    "for i in range(2,n+1):\n",
    "   fact*=i\n",
    "print (\"Factorial of\",n,\"numbers is =\",fact)"
   ]
  },
  {
   "cell_type": "code",
   "execution_count": 14,
   "id": "a301f8a7",
   "metadata": {},
   "outputs": [
    {
     "name": "stdout",
     "output_type": "stream",
     "text": [
      "Enter the num : 50\n",
      "Prime numbers are : \n",
      "2\n",
      "3\n",
      "5\n",
      "7\n",
      "11\n",
      "13\n",
      "17\n",
      "19\n",
      "23\n",
      "29\n",
      "31\n",
      "37\n",
      "41\n",
      "43\n",
      "47\n"
     ]
    }
   ],
   "source": [
    "n=int(input(\"Enter the num : \"))\n",
    "print(\"Prime numbers are : \")\n",
    "for i in range (2,n+1):\n",
    "    for j in range (2,i+1):\n",
    "        if i%j==0:\n",
    "            break\n",
    "    if i==j:\n",
    "        print(i)"
   ]
  },
  {
   "cell_type": "code",
   "execution_count": null,
   "id": "901912d1",
   "metadata": {},
   "outputs": [],
   "source": []
  },
  {
   "cell_type": "code",
   "execution_count": null,
   "id": "3b01e940",
   "metadata": {},
   "outputs": [],
   "source": []
  },
  {
   "cell_type": "code",
   "execution_count": null,
   "id": "c615d6a1",
   "metadata": {},
   "outputs": [],
   "source": []
  },
  {
   "cell_type": "code",
   "execution_count": null,
   "id": "d36f98e5",
   "metadata": {},
   "outputs": [],
   "source": []
  },
  {
   "cell_type": "code",
   "execution_count": null,
   "id": "3b7caa7e",
   "metadata": {},
   "outputs": [],
   "source": []
  },
  {
   "cell_type": "code",
   "execution_count": null,
   "id": "a7374fd9",
   "metadata": {},
   "outputs": [],
   "source": []
  },
  {
   "cell_type": "code",
   "execution_count": null,
   "id": "da4829ee",
   "metadata": {},
   "outputs": [],
   "source": []
  },
  {
   "cell_type": "code",
   "execution_count": null,
   "id": "c8434abc",
   "metadata": {},
   "outputs": [],
   "source": []
  },
  {
   "cell_type": "code",
   "execution_count": null,
   "id": "2059f13d",
   "metadata": {},
   "outputs": [],
   "source": []
  }
 ],
 "metadata": {
  "kernelspec": {
   "display_name": "Python 3",
   "language": "python",
   "name": "python3"
  },
  "language_info": {
   "codemirror_mode": {
    "name": "ipython",
    "version": 3
   },
   "file_extension": ".py",
   "mimetype": "text/x-python",
   "name": "python",
   "nbconvert_exporter": "python",
   "pygments_lexer": "ipython3",
   "version": "3.8.8"
  }
 },
 "nbformat": 4,
 "nbformat_minor": 5
}
