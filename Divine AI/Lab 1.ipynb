{
 "cells": [
  {
   "cell_type": "code",
   "execution_count": 7,
   "id": "6b6e0104",
   "metadata": {},
   "outputs": [
    {
     "name": "stdout",
     "output_type": "stream",
     "text": [
      "My\n",
      "name\n",
      "is\n",
      "Mohit\n",
      "Kumar\n",
      "Rai\n",
      "nm sM\n"
     ]
    }
   ],
   "source": [
    "str=\"My name is Mohit Kumar Rai\"\n",
    "words=str.split();\n",
    "for i in words:\n",
    "    print(i);\n",
    "print(str[3:12:2]) \n"
   ]
  },
  {
   "cell_type": "code",
   "execution_count": 8,
   "id": "2dcb2195",
   "metadata": {},
   "outputs": [
    {
     "name": "stdout",
     "output_type": "stream",
     "text": [
      "My dog MAXX performs the stunts under expert supervision.\n"
     ]
    }
   ],
   "source": [
    "s=\"My dog maxx performs the sTuntS Under EXperT suPErVIsion.\"\n",
    "print(s[0:6],s[7:11].upper(),s[12:].lower())"
   ]
  }
 ],
 "metadata": {
  "kernelspec": {
   "display_name": "Python 3",
   "language": "python",
   "name": "python3"
  },
  "language_info": {
   "codemirror_mode": {
    "name": "ipython",
    "version": 3
   },
   "file_extension": ".py",
   "mimetype": "text/x-python",
   "name": "python",
   "nbconvert_exporter": "python",
   "pygments_lexer": "ipython3",
   "version": "3.8.8"
  }
 },
 "nbformat": 4,
 "nbformat_minor": 5
}
