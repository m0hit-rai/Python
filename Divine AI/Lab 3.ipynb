{
 "cells": [
  {
   "cell_type": "code",
   "execution_count": 9,
   "id": "495160c5",
   "metadata": {},
   "outputs": [],
   "source": [
    "#Q1\n",
    "d1={1:'a',2:'b',3:'c'}\n",
    "d2={4:'d',5:'e',6:'f'}\n",
    "d3={7:'g',8:'h',9:'i'}\n",
    "# dmain={1:d1,2:d2,3:d3}\n",
    "# print(dmain)\n"
   ]
  },
  {
   "cell_type": "code",
   "execution_count": 10,
   "id": "5dae3791",
   "metadata": {},
   "outputs": [
    {
     "name": "stdout",
     "output_type": "stream",
     "text": [
      "{1: 'a', 2: 'b', 3: 'c', 4: 'd', 5: 'e', 6: 'f', 7: 'g', 8: 'h', 9: 'i'}\n"
     ]
    }
   ],
   "source": [
    "dfinal={}\n",
    "dfinal.update(d1)\n",
    "dfinal.update(d2)\n",
    "dfinal.update(d3)\n",
    "print(dfinal)"
   ]
  },
  {
   "cell_type": "code",
   "execution_count": null,
   "id": "b0103e3a",
   "metadata": {},
   "outputs": [],
   "source": [
    "d4={'name':'Mohit','address':'Chinhat','city':'Lucknow','state':'UP'}\n",
    "print(\"name : {},add : {},city : {},state : {}\".format())"
   ]
  },
  {
   "cell_type": "code",
   "execution_count": 11,
   "id": "5908023f",
   "metadata": {},
   "outputs": [
    {
     "name": "stdout",
     "output_type": "stream",
     "text": [
      "1200\n"
     ]
    }
   ],
   "source": [
    "d5 = {'Apple': 10, 'banana': 5,'orange':4,'Guava':6} \n",
    "op=1\n",
    "for i in d5.values():\n",
    "    op=op*i\n",
    "print(op)"
   ]
  },
  {
   "cell_type": "code",
   "execution_count": 15,
   "id": "28d3fcd2",
   "metadata": {},
   "outputs": [
    {
     "name": "stdout",
     "output_type": "stream",
     "text": [
      "Key : 1\n",
      "Value : 1\n",
      "Key : 2\n",
      "Value : 2\n",
      "{'1': 1, '2': 2}\n",
      "key for checking : 4\n",
      "4  not present\n"
     ]
    }
   ],
   "source": [
    "d6={}\n",
    "for i in range(2):\n",
    "    key=input(\"Key : \")\n",
    "    val=int(input(\"Value : \"))\n",
    "    d6[key]=val\n",
    "print(d6)\n",
    "ch=input(\"key for checking : \")\n",
    "if ch in d6:\n",
    "    print(ch,\" : \",d6[ch])\n",
    "else:\n",
    "    print(ch,\" not present\")"
   ]
  },
  {
   "cell_type": "code",
   "execution_count": 17,
   "id": "d8d66490",
   "metadata": {},
   "outputs": [
    {
     "name": "stdout",
     "output_type": "stream",
     "text": [
      "[('Eng', 88), ('Sci', 90), ('Maths', 97), ('Sst', 82)]\n",
      "[('Eng', 88), ('Maths', 97), ('Sci', 90), ('Sst', 82)]\n"
     ]
    }
   ],
   "source": [
    "l1= [('Eng', 88), ('Sci', 90), ('Maths', 97), ('Sst', 82)]\n",
    "print(l1)\n",
    "l1.sort(key = lambda x: x[0])\n",
    "print(l1)"
   ]
  },
  {
   "cell_type": "code",
   "execution_count": 20,
   "id": "ff4cabe1",
   "metadata": {},
   "outputs": [
    {
     "name": "stdout",
     "output_type": "stream",
     "text": [
      "no condition satisfied\n"
     ]
    }
   ],
   "source": [
    "def fun1(a,b):\n",
    "    if(a==1):\n",
    "        print(\"Coming from if \")\n",
    "    elif(b==1):\n",
    "        print(\"Coming from elif\")\n",
    "    else:\n",
    "        print(\"No condition satisfied\")\n",
    "\n",
    "fun1(1,12)"
   ]
  },
  {
   "cell_type": "code",
   "execution_count": 25,
   "id": "8509e993",
   "metadata": {},
   "outputs": [
    {
     "name": "stdout",
     "output_type": "stream",
     "text": [
      "66.0\n"
     ]
    }
   ],
   "source": [
    "d7={1:{'name':'Ram','Mark':{'phy':56,'chem':78}},\n",
    "    2:{'name':'Hari','Mark':{'phy':76,'chem':88}}} \n",
    "def fun2(d):\n",
    "    sm=0\n",
    "    count=0\n",
    "    for i in d:\n",
    "        sm+=d[i]['Mark']['phy']\n",
    "        count+=1\n",
    "    print(sm/count)\n",
    "fun2(d7)"
   ]
  },
  {
   "cell_type": "code",
   "execution_count": null,
   "id": "3fc53f34",
   "metadata": {},
   "outputs": [],
   "source": []
  },
  {
   "cell_type": "code",
   "execution_count": null,
   "id": "c47e6a3c",
   "metadata": {},
   "outputs": [],
   "source": []
  },
  {
   "cell_type": "code",
   "execution_count": null,
   "id": "a3eceac3",
   "metadata": {},
   "outputs": [],
   "source": []
  },
  {
   "cell_type": "code",
   "execution_count": null,
   "id": "01d58c16",
   "metadata": {},
   "outputs": [],
   "source": []
  },
  {
   "cell_type": "code",
   "execution_count": null,
   "id": "d9786c35",
   "metadata": {},
   "outputs": [],
   "source": []
  },
  {
   "cell_type": "code",
   "execution_count": null,
   "id": "7ebc2419",
   "metadata": {},
   "outputs": [],
   "source": []
  },
  {
   "cell_type": "code",
   "execution_count": null,
   "id": "73136951",
   "metadata": {},
   "outputs": [],
   "source": []
  }
 ],
 "metadata": {
  "kernelspec": {
   "display_name": "Python 3",
   "language": "python",
   "name": "python3"
  },
  "language_info": {
   "codemirror_mode": {
    "name": "ipython",
    "version": 3
   },
   "file_extension": ".py",
   "mimetype": "text/x-python",
   "name": "python",
   "nbconvert_exporter": "python",
   "pygments_lexer": "ipython3",
   "version": "3.8.8"
  }
 },
 "nbformat": 4,
 "nbformat_minor": 5
}
