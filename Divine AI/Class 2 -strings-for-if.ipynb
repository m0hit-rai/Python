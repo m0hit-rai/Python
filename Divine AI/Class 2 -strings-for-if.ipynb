{
 "cells": [
  {
   "cell_type": "code",
   "execution_count": null,
   "id": "d1c3aec6",
   "metadata": {},
   "outputs": [],
   "source": [
    "print(\"Hello world!\")\n",
    "\n",
    "print(\"'Hello world!'\")\n",
    "\n",
    "print('\"Hello world!\"')\n",
    "\n",
    "print(\"Hello world!\"\")"
   ]
  },
  {
   "cell_type": "code",
   "execution_count": 45,
   "id": "f5eab14d",
   "metadata": {},
   "outputs": [],
   "source": [
    ">>> aa=\"SLICEOFSPAM\"\n",
    "# >>> aa[0],aa[-9],aa[-3:-5]"
   ]
  },
  {
   "cell_type": "code",
   "execution_count": 47,
   "id": "80018af9",
   "metadata": {
    "scrolled": true
   },
   "outputs": [
    {
     "name": "stdout",
     "output_type": "stream",
     "text": [
      "OFSP\n",
      "FS\n",
      "\n",
      "sliceofspam\n",
      "SLICEOFSPAM starts with S\n"
     ]
    }
   ],
   "source": [
    "print(aa[5:9])\n",
    "print(aa[-5:-3])\n",
    "print(aa[-3:-5])\n",
    "print(aa.lower())\n",
    "print(aa,\"starts with\",aa[0])"
   ]
  },
  {
   "cell_type": "code",
   "execution_count": 48,
   "id": "5f929e06",
   "metadata": {},
   "outputs": [
    {
     "data": {
      "text/plain": [
       "'c'"
      ]
     },
     "execution_count": 48,
     "metadata": {},
     "output_type": "execute_result"
    }
   ],
   "source": [
    "A={1:'a',2:'b',3:'c'}\n",
    "A[3]"
   ]
  },
  {
   "cell_type": "code",
   "execution_count": 25,
   "id": "0ea4940d",
   "metadata": {
    "scrolled": true
   },
   "outputs": [
    {
     "name": "stdout",
     "output_type": "stream",
     "text": [
      "0-99\n",
      "0 is greater than equal to zero\n",
      "0\n",
      "1\n",
      "2\n",
      "3\n",
      "4\n",
      "5\n",
      "6\n",
      "7\n",
      "8\n",
      "9\n"
     ]
    }
   ],
   "source": [
    "input(x)\n",
    "if x < 0:\n",
    "    print(x,\"is less than zero\")\n",
    "    while x != 0:\n",
    "        print(x)\n",
    "        x+=1\n",
    "else:\n",
    "    print(x,\"is greater than equal to zero\")\n",
    "    for i in range(10):\n",
    "        print(i)"
   ]
  }
 ],
 "metadata": {
  "kernelspec": {
   "display_name": "Python 3",
   "language": "python",
   "name": "python3"
  },
  "language_info": {
   "codemirror_mode": {
    "name": "ipython",
    "version": 3
   },
   "file_extension": ".py",
   "mimetype": "text/x-python",
   "name": "python",
   "nbconvert_exporter": "python",
   "pygments_lexer": "ipython3",
   "version": "3.8.8"
  }
 },
 "nbformat": 4,
 "nbformat_minor": 5
}
