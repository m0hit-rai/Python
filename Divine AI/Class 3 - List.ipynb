{
 "cells": [
  {
   "cell_type": "code",
   "execution_count": null,
   "id": "f2cae5ea",
   "metadata": {},
   "outputs": [],
   "source": [
    "### LIST, TUPLE and MORE"
   ]
  },
  {
   "cell_type": "code",
   "execution_count": null,
   "id": "ba1f50e7",
   "metadata": {},
   "outputs": [],
   "source": [
    "(1,2,3)+(4,5,6)"
   ]
  },
  {
   "cell_type": "code",
   "execution_count": null,
   "id": "6122464f",
   "metadata": {},
   "outputs": [],
   "source": [
    "[1,2,3]+[4,5,6]"
   ]
  },
  {
   "cell_type": "code",
   "execution_count": 20,
   "id": "4996b5e6",
   "metadata": {},
   "outputs": [
    {
     "name": "stdout",
     "output_type": "stream",
     "text": [
      "[1, 2, 3, 1, 2, 3, 1, 2, 3]\n",
      "(1, 2, 3, 1, 2, 3, 1, 2, 3)\n",
      "HelloHelloHello\n"
     ]
    }
   ],
   "source": [
    "li=[1,2,3]\n",
    "tu=(1,2,3)\n",
    "str=\"Hello\"\n",
    "print(li*3)\n",
    "print(tu*3)\n",
    "print(str*3)"
   ]
  },
  {
   "cell_type": "code",
   "execution_count": null,
   "id": "ff63fbe5",
   "metadata": {},
   "outputs": [],
   "source": [
    "str=str*3\n",
    "print(str)"
   ]
  },
  {
   "cell_type": "code",
   "execution_count": null,
   "id": "4769536a",
   "metadata": {},
   "outputs": [],
   "source": [
    "print(['red',24,98.6])"
   ]
  },
  {
   "cell_type": "code",
   "execution_count": 21,
   "id": "3d877f55",
   "metadata": {},
   "outputs": [
    {
     "name": "stdout",
     "output_type": "stream",
     "text": [
      "1\n",
      "2\n",
      "3\n",
      "1\n",
      "2\n",
      "3\n",
      "1\n",
      "2\n",
      "3\n",
      "1\n",
      "2\n",
      "3\n",
      "Hello\n"
     ]
    }
   ],
   "source": [
    "li=li*2\n",
    "for i in li*2:\n",
    "    print(i)\n",
    "print(str)"
   ]
  },
  {
   "cell_type": "code",
   "execution_count": 22,
   "id": "8ab9beaf",
   "metadata": {},
   "outputs": [
    {
     "name": "stdout",
     "output_type": "stream",
     "text": [
      "range(0, 3)\n"
     ]
    }
   ],
   "source": [
    "list=range(3)\n",
    "print(list)"
   ]
  },
  {
   "cell_type": "code",
   "execution_count": 24,
   "id": "00cde481",
   "metadata": {},
   "outputs": [
    {
     "name": "stdout",
     "output_type": "stream",
     "text": [
      "[1, '2', 5.0]\n"
     ]
    }
   ],
   "source": [
    "aa=[]\n",
    "aa.append(1)\n",
    "aa.append('2')\n",
    "aa.append(5.0)\n",
    "print(aa)"
   ]
  },
  {
   "cell_type": "code",
   "execution_count": 27,
   "id": "7e195656",
   "metadata": {},
   "outputs": [
    {
     "name": "stdout",
     "output_type": "stream",
     "text": [
      "Mere paas\n",
      "Roti hai,\n",
      "Kapda hai,\n",
      "Makaan hai,\n",
      "tumhare paas kya hai?\n"
     ]
    }
   ],
   "source": [
    "#DICTIONARY\n",
    "var={}\n",
    "var[1]='Roti'\n",
    "var[2]='Kapda'\n",
    "var[3]='Makaan'\n",
    "print(\"Mere paas\")\n",
    "for i in range(1,4):\n",
    "    print(var[i],\"hai,\")\n",
    "print(\"tumhare paas kya hai?\")"
   ]
  },
  {
   "cell_type": "code",
   "execution_count": null,
   "id": "9cae8294",
   "metadata": {},
   "outputs": [],
   "source": []
  },
  {
   "cell_type": "code",
   "execution_count": null,
   "id": "ba2b24eb",
   "metadata": {},
   "outputs": [],
   "source": []
  },
  {
   "cell_type": "code",
   "execution_count": null,
   "id": "fc398d4f",
   "metadata": {},
   "outputs": [],
   "source": []
  },
  {
   "cell_type": "code",
   "execution_count": null,
   "id": "8ce6f7ac",
   "metadata": {},
   "outputs": [],
   "source": []
  },
  {
   "cell_type": "code",
   "execution_count": null,
   "id": "43a1bc74",
   "metadata": {},
   "outputs": [],
   "source": []
  },
  {
   "cell_type": "code",
   "execution_count": null,
   "id": "e8015066",
   "metadata": {},
   "outputs": [],
   "source": []
  }
 ],
 "metadata": {
  "kernelspec": {
   "display_name": "Python 3",
   "language": "python",
   "name": "python3"
  },
  "language_info": {
   "codemirror_mode": {
    "name": "ipython",
    "version": 3
   },
   "file_extension": ".py",
   "mimetype": "text/x-python",
   "name": "python",
   "nbconvert_exporter": "python",
   "pygments_lexer": "ipython3",
   "version": "3.8.8"
  }
 },
 "nbformat": 4,
 "nbformat_minor": 5
}
